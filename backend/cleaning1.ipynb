{
 "cells": [
  {
   "cell_type": "markdown",
   "id": "00bee4e2",
   "metadata": {},
   "source": [
    "We load the data set, rename columns for convenience and clean the geometry. Each row contains one geo-referenced accident in Berlin 2019."
   ]
  },
  {
   "cell_type": "code",
   "execution_count": 17,
   "id": "138c8ad2",
   "metadata": {},
   "outputs": [
    {
     "data": {
      "text/plain": [
       "<AxesSubplot:>"
      ]
     },
     "execution_count": 17,
     "metadata": {},
     "output_type": "execute_result"
    },
    {
     "data": {
      "image/png": "[encoded data removed]",
      "text/plain": [
       "<Figure size 432x288 with 1 Axes>"
      ]
     },
     "metadata": {
      "needs_background": "light"
     },
     "output_type": "display_data"
    }
   ],
   "source": [
    "import pandas as pd\n",
    "import geopandas as gpd\n",
    "\n",
    "df = pd.read_csv(\"data/accidents_berlin_2019.csv\", encoding=\"latin-1\", sep=\";\")\n",
    "df.rename(columns = {\"UJAHR\": \"year\", \"LOR\": \"lor_key\", \"XGCSWGS84\": \"lon\", \"YGCSWGS84\": \"lat\"}, inplace=True)\n",
    "df.lon = pd.to_numeric([x.replace(',','.') for x in df[\"lon\"]]) # german to english float representation, parse string\n",
    "df.lat = pd.to_numeric([x.replace(',','.') for x in df[\"lat\"]])\n",
    "df.LINREFY = pd.to_numeric([x.replace(',','.') for x in df[\"LINREFY\"]]) # german to english float representation, parse string\n",
    "\n",
    "gdf = gpd.GeoDataFrame(df, geometry=gpd.points_from_xy(df.lon, df.lat))\n",
    "gdf.crs = 'epsg:4326'\n",
    "\n",
    "gdf.plot()"
   ]
  },
  {
   "cell_type": "markdown",
   "id": "34e3ce51",
   "metadata": {},
   "source": [
    "Hm, most points cluster at (13, 52), however one point is at (52, 1). The coordinates for one entry are erroneous."
   ]
  },
  {
   "cell_type": "code",
   "execution_count": 18,
   "id": "ff403aee",
   "metadata": {},
   "outputs": [],
   "source": [
    "wrong_index = (gdf.lat == 1)\n",
    "gdf.loc[wrong_index, \"lat\"] = gdf.loc[wrong_index, \"lon\"].values # the values seem to be in the wrong column, we swap them\n",
    "gdf.loc[wrong_index, \"lon\"] = gdf.loc[wrong_index, \"LINREFY\"].values\n",
    "\n",
    "assert all([str(x)[0:2] == '13' for x in gdf.lon])\n",
    "assert all([str(y)[0:2] == '52' for y in gdf.lat])\n",
    "\n",
    "gdf[\"geometry\"] = gpd.points_from_xy(gdf.lon, gdf.lat) # update geom col\n",
    "\n",
    "gdf = gdf[[\"year\", \"lon\", \"lat\", \"lor_key\", \"geometry\"]]\n",
    "\n",
    "gdf.to_file('data/accidents.gpkg', driver='GPKG', layer='accidents2019')"
   ]
  }
 ],
 "metadata": {
  "@webio": {
   "lastCommId": null,
   "lastKernelId": null
  },
  "kernelspec": {
   "display_name": "Python [conda env:geo_env]",
   "language": "python",
   "name": "conda-env-geo_env-py"
  },
  "language_info": {
   "codemirror_mode": {
    "name": "ipython",
    "version": 3
   },
   "file_extension": ".py",
   "mimetype": "text/x-python",
   "name": "python",
   "nbconvert_exporter": "python",
   "pygments_lexer": "ipython3",
   "version": "3.9.7"
  }
 },
 "nbformat": 4,
 "nbformat_minor": 5
}
