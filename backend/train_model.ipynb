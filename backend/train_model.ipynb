{
 "cells": [
  {
   "cell_type": "markdown",
   "id": "6fea6c3e",
   "metadata": {},
   "source": [
    "We load the required packages and retrieve the input data from the model from our local database."
   ]
  },
  {
   "cell_type": "code",
   "execution_count": 1,
   "id": "4517a2a5",
   "metadata": {},
   "outputs": [],
   "source": [
    "import sqlite3\n",
    "import pandas as pd\n",
    "from sklearn.ensemble import RandomForestRegressor\n",
    "from sklearn.model_selection import train_test_split\n",
    "from pykrige.rk import RegressionKriging\n",
    "import numpy as np\n",
    "from joblib import dump\n",
    "\n",
    "YEAR = \"2019\"\n",
    "\n",
    "conn = sqlite3.connect(\"data/accidents.db\")\n",
    "query = conn.execute(\"SELECT centroid_lon, centroid_lat, daily_traffic_cars_per_m2, mean_accidents_per_m2_\" + YEAR + \" FROM accidents_per_lor\")\n",
    "cols = [column[0] for column in query.description]\n",
    "df = pd.DataFrame.from_records(data = query.fetchall(), columns = cols)\n",
    "conn.close()"
   ]
  },
  {
   "cell_type": "markdown",
   "id": "1979da67",
   "metadata": {},
   "source": [
    "We preprare the data for use in the sklearn environment and create a test set which contains 30% of the total data."
   ]
  },
  {
   "cell_type": "code",
   "execution_count": 2,
   "id": "d0028af6",
   "metadata": {},
   "outputs": [],
   "source": [
    "X = np.array(df[\"daily_traffic_cars_per_m2\"]).reshape(-1, 1)\n",
    "y = np.array(df[\"mean_accidents_per_m2_\" + YEAR])\n",
    "lonlat = np.array([(x, y) for x,y in zip(df[\"centroid_lon\"], df[\"centroid_lat\"])])\n",
    "\n",
    "X_train, X_test, y_train, y_test, lonlat_train, lonlat_test = train_test_split(\n",
    "    X, y, lonlat, test_size=0.3, random_state=69\n",
    "    )"
   ]
  },
  {
   "cell_type": "markdown",
   "id": "72013778",
   "metadata": {},
   "source": [
    "We fit the Regression-Kriging model to the predictor, response and coordinates of the train set. The RK model from the PyKrige package requires an instance of a RandomForestRegressor from the sklearn library."
   ]
  },
  {
   "cell_type": "code",
   "execution_count": 3,
   "id": "6bfd4151",
   "metadata": {},
   "outputs": [
    {
     "name": "stdout",
     "output_type": "stream",
     "text": [
      "Finished learning regression model\n",
      "Finished kriging residuals\n"
     ]
    }
   ],
   "source": [
    "rf = RandomForestRegressor(n_estimators=300)\n",
    "\n",
    "rk = RegressionKriging(regression_model=rf, n_closest_points=10)\n",
    "rk.fit(X_train, lonlat_train, y_train)"
   ]
  },
  {
   "cell_type": "markdown",
   "id": "e108cad2",
   "metadata": {},
   "source": [
    "The model isn't a great fit, but not bad either. For the purpose of this sample application it is good enough. We save the trained model to the disk."
   ]
  },
  {
   "cell_type": "code",
   "execution_count": 4,
   "id": "b4fdd163",
   "metadata": {},
   "outputs": [
    {
     "name": "stdout",
     "output_type": "stream",
     "text": [
      "Regression Score:  0.36284125153357194\n",
      "RK score:  0.4408776625093902\n"
     ]
    },
    {
     "data": {
      "text/plain": [
       "['model.joblib']"
      ]
     },
     "execution_count": 4,
     "metadata": {},
     "output_type": "execute_result"
    }
   ],
   "source": [
    "print(\"Regression Score: \", rk.regression_model.score(X_test, y_test))\n",
    "print(\"RK score: \", rk.score(X_test, lonlat_test, y_test))\n",
    "\n",
    "# store fitted model\n",
    "dump(rk, 'model.joblib')"
   ]
  }
 ],
 "metadata": {
  "kernelspec": {
   "display_name": "Python [conda env:geo_env]",
   "language": "python",
   "name": "conda-env-geo_env-py"
  },
  "language_info": {
   "codemirror_mode": {
    "name": "ipython",
    "version": 3
   },
   "file_extension": ".py",
   "mimetype": "text/x-python",
   "name": "python",
   "nbconvert_exporter": "python",
   "pygments_lexer": "ipython3",
   "version": "3.9.7"
  }
 },
 "nbformat": 4,
 "nbformat_minor": 5
}
